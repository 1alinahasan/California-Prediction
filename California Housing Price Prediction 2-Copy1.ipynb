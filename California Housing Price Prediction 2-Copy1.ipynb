{
 "cells": [
  {
   "cell_type": "code",
   "execution_count": 119,
   "id": "78c387f5",
   "metadata": {},
   "outputs": [],
   "source": [
    "#Load the data\n",
    "import pandas as pd\n",
    "\n",
    "Dataset=pd.read_excel(\"/Users/alinahasan/Desktop/intrnshp/housing.xlsx\")\n",
    "Dataset\n",
    "xcol=['longitude', 'latitude', 'housing_median_age', 'total_rooms',\n",
    "       'total_bedrooms', 'population', 'households', 'median_income',\n",
    "       'ocean_proximity']\n",
    "x=Dataset[xcol]\n",
    "\n",
    "y=Dataset['median_house_value']\n"
   ]
  },
  {
   "cell_type": "code",
   "execution_count": 120,
   "id": "1188f82a",
   "metadata": {},
   "outputs": [
    {
     "name": "stdout",
     "output_type": "stream",
     "text": [
      "   longitude  latitude  housing_median_age  total_rooms  total_bedrooms  \\\n",
      "0    -122.23     37.88                  41          880           129.0   \n",
      "1    -122.22     37.86                  21         7099          1106.0   \n",
      "2    -122.24     37.85                  52         1467           190.0   \n",
      "3    -122.25     37.85                  52         1274           235.0   \n",
      "4    -122.25     37.85                  52         1627           280.0   \n",
      "5    -122.25     37.85                  52          919           213.0   \n",
      "6    -122.25     37.84                  52         2535           489.0   \n",
      "7    -122.25     37.84                  52         3104           687.0   \n",
      "8    -122.26     37.84                  42         2555           665.0   \n",
      "9    -122.25     37.84                  52         3549           707.0   \n",
      "\n",
      "   population  households  median_income ocean_proximity  median_house_value  \n",
      "0         322         126         8.3252        NEAR BAY              452600  \n",
      "1        2401        1138         8.3014        NEAR BAY              358500  \n",
      "2         496         177         7.2574        NEAR BAY              352100  \n",
      "3         558         219         5.6431        NEAR BAY              341300  \n",
      "4         565         259         3.8462        NEAR BAY              342200  \n",
      "5         413         193         4.0368        NEAR BAY              269700  \n",
      "6        1094         514         3.6591        NEAR BAY              299200  \n",
      "7        1157         647         3.1200        NEAR BAY              241400  \n",
      "8        1206         595         2.0804        NEAR BAY              226700  \n",
      "9        1551         714         3.6912        NEAR BAY              261100  \n"
     ]
    }
   ],
   "source": [
    "print(Dataset.head(10))"
   ]
  },
  {
   "cell_type": "code",
   "execution_count": 121,
   "id": "ba4ab6b4",
   "metadata": {},
   "outputs": [
    {
     "data": {
      "text/plain": [
       "longitude               0\n",
       "latitude                0\n",
       "housing_median_age      0\n",
       "total_rooms             0\n",
       "total_bedrooms        207\n",
       "population              0\n",
       "households              0\n",
       "median_income           0\n",
       "ocean_proximity         0\n",
       "median_house_value      0\n",
       "dtype: int64"
      ]
     },
     "execution_count": 121,
     "metadata": {},
     "output_type": "execute_result"
    }
   ],
   "source": [
    "#Handle missing values\n",
    "Dataset.isnull().sum()"
   ]
  },
  {
   "cell_type": "code",
   "execution_count": 122,
   "id": "8565d2ff",
   "metadata": {},
   "outputs": [
    {
     "data": {
      "text/plain": [
       "longitude             0\n",
       "latitude              0\n",
       "housing_median_age    0\n",
       "total_rooms           0\n",
       "total_bedrooms        0\n",
       "population            0\n",
       "households            0\n",
       "median_income         0\n",
       "ocean_proximity       0\n",
       "median_house_value    0\n",
       "dtype: int64"
      ]
     },
     "execution_count": 122,
     "metadata": {},
     "output_type": "execute_result"
    }
   ],
   "source": [
    "Dataset.total_bedrooms=Dataset.total_bedrooms.fillna(Dataset.total_bedrooms.mean())\n",
    "Dataset.isnull().sum()"
   ]
  },
  {
   "cell_type": "code",
   "execution_count": 123,
   "id": "ca29a33e",
   "metadata": {},
   "outputs": [
    {
     "name": "stdout",
     "output_type": "stream",
     "text": [
      "       longitude  latitude  housing_median_age  total_rooms  total_bedrooms  \\\n",
      "0        -122.23     37.88                  41          880           129.0   \n",
      "1        -122.22     37.86                  21         7099          1106.0   \n",
      "2        -122.24     37.85                  52         1467           190.0   \n",
      "3        -122.25     37.85                  52         1274           235.0   \n",
      "4        -122.25     37.85                  52         1627           280.0   \n",
      "...          ...       ...                 ...          ...             ...   \n",
      "20635    -121.09     39.48                  25         1665           374.0   \n",
      "20636    -121.21     39.49                  18          697           150.0   \n",
      "20637    -121.22     39.43                  17         2254           485.0   \n",
      "20638    -121.32     39.43                  18         1860           409.0   \n",
      "20639    -121.24     39.37                  16         2785           616.0   \n",
      "\n",
      "       population  households  median_income  ocean_proximity  \\\n",
      "0             322         126         8.3252                3   \n",
      "1            2401        1138         8.3014                3   \n",
      "2             496         177         7.2574                3   \n",
      "3             558         219         5.6431                3   \n",
      "4             565         259         3.8462                3   \n",
      "...           ...         ...            ...              ...   \n",
      "20635         845         330         1.5603                1   \n",
      "20636         356         114         2.5568                1   \n",
      "20637        1007         433         1.7000                1   \n",
      "20638         741         349         1.8672                1   \n",
      "20639        1387         530         2.3886                1   \n",
      "\n",
      "       median_house_value  \n",
      "0                  452600  \n",
      "1                  358500  \n",
      "2                  352100  \n",
      "3                  341300  \n",
      "4                  342200  \n",
      "...                   ...  \n",
      "20635               78100  \n",
      "20636               77100  \n",
      "20637               92300  \n",
      "20638               84700  \n",
      "20639               89400  \n",
      "\n",
      "[20640 rows x 10 columns]\n"
     ]
    }
   ],
   "source": [
    "#Encode categorical data\n",
    "from sklearn.preprocessing import LabelEncoder\n",
    "le = LabelEncoder()\n",
    "Dataset['ocean_proximity']=le.fit_transform(Dataset['ocean_proximity'])\n",
    "print(Dataset)"
   ]
  },
  {
   "cell_type": "code",
   "execution_count": 124,
   "id": "67299a30",
   "metadata": {},
   "outputs": [
    {
     "data": {
      "text/html": [
       "<div>\n",
       "<style scoped>\n",
       "    .dataframe tbody tr th:only-of-type {\n",
       "        vertical-align: middle;\n",
       "    }\n",
       "\n",
       "    .dataframe tbody tr th {\n",
       "        vertical-align: top;\n",
       "    }\n",
       "\n",
       "    .dataframe thead th {\n",
       "        text-align: right;\n",
       "    }\n",
       "</style>\n",
       "<table border=\"1\" class=\"dataframe\">\n",
       "  <thead>\n",
       "    <tr style=\"text-align: right;\">\n",
       "      <th></th>\n",
       "      <th>longitude</th>\n",
       "      <th>latitude</th>\n",
       "      <th>housing_median_age</th>\n",
       "      <th>total_rooms</th>\n",
       "      <th>total_bedrooms</th>\n",
       "      <th>population</th>\n",
       "      <th>households</th>\n",
       "      <th>median_income</th>\n",
       "      <th>ocean_proximity</th>\n",
       "      <th>median_house_value</th>\n",
       "    </tr>\n",
       "  </thead>\n",
       "  <tbody>\n",
       "    <tr>\n",
       "      <th>0</th>\n",
       "      <td>-1.327835</td>\n",
       "      <td>1.052548</td>\n",
       "      <td>0.982143</td>\n",
       "      <td>-0.804819</td>\n",
       "      <td>-0.975228</td>\n",
       "      <td>-0.974429</td>\n",
       "      <td>-0.977033</td>\n",
       "      <td>2.344766</td>\n",
       "      <td>1.291089</td>\n",
       "      <td>2.129631</td>\n",
       "    </tr>\n",
       "    <tr>\n",
       "      <th>1</th>\n",
       "      <td>-1.322844</td>\n",
       "      <td>1.043185</td>\n",
       "      <td>-0.607019</td>\n",
       "      <td>2.045890</td>\n",
       "      <td>1.355088</td>\n",
       "      <td>0.861439</td>\n",
       "      <td>1.669961</td>\n",
       "      <td>2.332238</td>\n",
       "      <td>1.291089</td>\n",
       "      <td>1.314156</td>\n",
       "    </tr>\n",
       "    <tr>\n",
       "      <th>2</th>\n",
       "      <td>-1.332827</td>\n",
       "      <td>1.038503</td>\n",
       "      <td>1.856182</td>\n",
       "      <td>-0.535746</td>\n",
       "      <td>-0.829732</td>\n",
       "      <td>-0.820777</td>\n",
       "      <td>-0.843637</td>\n",
       "      <td>1.782699</td>\n",
       "      <td>1.291089</td>\n",
       "      <td>1.258693</td>\n",
       "    </tr>\n",
       "    <tr>\n",
       "      <th>3</th>\n",
       "      <td>-1.337818</td>\n",
       "      <td>1.038503</td>\n",
       "      <td>1.856182</td>\n",
       "      <td>-0.624215</td>\n",
       "      <td>-0.722399</td>\n",
       "      <td>-0.766028</td>\n",
       "      <td>-0.733781</td>\n",
       "      <td>0.932968</td>\n",
       "      <td>1.291089</td>\n",
       "      <td>1.165100</td>\n",
       "    </tr>\n",
       "    <tr>\n",
       "      <th>4</th>\n",
       "      <td>-1.337818</td>\n",
       "      <td>1.038503</td>\n",
       "      <td>1.856182</td>\n",
       "      <td>-0.462404</td>\n",
       "      <td>-0.615066</td>\n",
       "      <td>-0.759847</td>\n",
       "      <td>-0.629157</td>\n",
       "      <td>-0.012881</td>\n",
       "      <td>1.291089</td>\n",
       "      <td>1.172900</td>\n",
       "    </tr>\n",
       "  </tbody>\n",
       "</table>\n",
       "</div>"
      ],
      "text/plain": [
       "   longitude  latitude  housing_median_age  total_rooms  total_bedrooms  \\\n",
       "0  -1.327835  1.052548            0.982143    -0.804819       -0.975228   \n",
       "1  -1.322844  1.043185           -0.607019     2.045890        1.355088   \n",
       "2  -1.332827  1.038503            1.856182    -0.535746       -0.829732   \n",
       "3  -1.337818  1.038503            1.856182    -0.624215       -0.722399   \n",
       "4  -1.337818  1.038503            1.856182    -0.462404       -0.615066   \n",
       "\n",
       "   population  households  median_income  ocean_proximity  median_house_value  \n",
       "0   -0.974429   -0.977033       2.344766         1.291089            2.129631  \n",
       "1    0.861439    1.669961       2.332238         1.291089            1.314156  \n",
       "2   -0.820777   -0.843637       1.782699         1.291089            1.258693  \n",
       "3   -0.766028   -0.733781       0.932968         1.291089            1.165100  \n",
       "4   -0.759847   -0.629157      -0.012881         1.291089            1.172900  "
      ]
     },
     "execution_count": 124,
     "metadata": {},
     "output_type": "execute_result"
    }
   ],
   "source": [
    "#Standardize data\n",
    "from sklearn.preprocessing import StandardScaler\n",
    "names = Dataset.columns\n",
    "\n",
    "scaler = StandardScaler()\n",
    "\n",
    "scaled_df = scaler.fit_transform(Dataset)\n",
    "scaled_df = pd.DataFrame(scaled_df, columns=names)\n",
    "scaled_df.head()"
   ]
  },
  {
   "cell_type": "code",
   "execution_count": 125,
   "id": "ea9b616e",
   "metadata": {},
   "outputs": [],
   "source": [
    "xcol=['longitude', 'latitude', 'housing_median_age', 'total_rooms',\n",
    "       'total_bedrooms', 'population', 'households', 'median_income',\n",
    "       'ocean_proximity']\n",
    "x=scaled_df[xcol]\n",
    "\n",
    "y=scaled_df['median_house_value']\n"
   ]
  },
  {
   "cell_type": "code",
   "execution_count": 126,
   "id": "3293ca47",
   "metadata": {},
   "outputs": [
    {
     "name": "stdout",
     "output_type": "stream",
     "text": [
      "(16512, 9)\n",
      "(16512,)\n",
      "(4128, 9)\n",
      "(4128,)\n"
     ]
    }
   ],
   "source": [
    "#Split the dataset\n",
    "from sklearn.model_selection import train_test_split\n",
    "x_train,x_test,y_train,y_test=train_test_split(x,y,test_size=0.2)\n",
    "print(x_train.shape)\n",
    "print(y_train.shape)\n",
    "print(x_test.shape)\n",
    "print(y_test.shape)"
   ]
  },
  {
   "cell_type": "code",
   "execution_count": 127,
   "id": "c64f8943",
   "metadata": {},
   "outputs": [
    {
     "name": "stdout",
     "output_type": "stream",
     "text": [
      "       longitude  latitude  housing_median_age  total_rooms  total_bedrooms  \\\n",
      "16943  -1.367766  0.898047            1.856182    -0.795651       -0.846428   \n",
      "1018   -1.108218  0.954229           -0.209729    -0.216708       -0.474341   \n",
      "18821  -0.673974  1.839102            1.538349    -0.623298       -0.586444   \n",
      "4428    0.673679 -0.721879            0.902685    -0.712683       -0.610296   \n",
      "6813    0.748549 -0.717197           -0.050812    -0.898330       -0.860739   \n",
      "...          ...       ...                 ...          ...             ...   \n",
      "13838   1.132879 -0.515877            0.743768    -0.455070       -0.116565   \n",
      "7127    0.738566 -0.754652           -0.050812    -0.298760       -0.536356   \n",
      "543    -1.352792  1.005730            1.697265    -0.526578       -0.553052   \n",
      "16150  -1.452618  1.005730            1.856182     0.188506        0.245982   \n",
      "14457   1.147853 -1.316476            0.505394     0.124790        0.136264   \n",
      "\n",
      "       population  households  median_income  ocean_proximity  \n",
      "16943   -0.931159   -0.872409      -0.326708         1.995003  \n",
      "1018    -0.422520   -0.401599       1.162784        -0.116739  \n",
      "18821   -0.942639   -0.927336      -1.050477        -0.116739  \n",
      "4428    -0.402210   -0.618695      -1.050477        -0.820653  \n",
      "6813    -0.779274   -0.822712      -0.334024        -0.820653  \n",
      "...           ...         ...            ...              ...  \n",
      "13838   -0.202640   -0.244663      -1.391307        -0.116739  \n",
      "7127    -0.288296   -0.409446       0.358952        -0.820653  \n",
      "543     -0.614143   -0.451296      -0.714174         1.291089  \n",
      "16150    0.001345    0.315077      -0.201272         1.291089  \n",
      "14457   -0.315671    0.077057       0.162455         1.995003  \n",
      "\n",
      "[16512 rows x 9 columns]\n"
     ]
    }
   ],
   "source": [
    "print(x_train)"
   ]
  },
  {
   "cell_type": "code",
   "execution_count": 128,
   "id": "14566d29",
   "metadata": {},
   "outputs": [
    {
     "name": "stdout",
     "output_type": "stream",
     "text": [
      "[ 0.08879852  0.53691638  2.78885709 ... -0.58642904 -1.17655059\n",
      " -0.12796286]\n"
     ]
    }
   ],
   "source": [
    "#Perform Linear Regression\n",
    "from sklearn.linear_model import LinearRegression\n",
    "linreg=LinearRegression()\n",
    "linreg.fit(x_train,y_train)\n",
    "y_predict = linreg.predict(x_test)\n",
    "print(y_predict)"
   ]
  },
  {
   "cell_type": "code",
   "execution_count": 129,
   "id": "caca078e",
   "metadata": {},
   "outputs": [
    {
     "name": "stdout",
     "output_type": "stream",
     "text": [
      "0.6060817389797248\n",
      "0.6390936315522757\n"
     ]
    }
   ],
   "source": [
    "from sklearn.metrics import mean_squared_error,r2_score\n",
    "from math import sqrt\n",
    "print(sqrt(mean_squared_error(y_test,y_predict)))\n",
    "print((r2_score(y_test,y_predict)))"
   ]
  },
  {
   "cell_type": "code",
   "execution_count": 130,
   "id": "6c3b3e3f",
   "metadata": {},
   "outputs": [
    {
     "name": "stdout",
     "output_type": "stream",
     "text": [
      "0.7333307287898939\n",
      "0.4716375872691647\n"
     ]
    }
   ],
   "source": [
    "#Perform Linear Regression with one independent variable\n",
    "X_train=x_train[['median_income']]\n",
    "X_test=x_test[['median_income']]\n",
    "\n",
    "linreg=LinearRegression()\n",
    "linreg.fit(X_train,y_train)\n",
    "y_predict = linreg.predict(X_test)\n",
    "print(sqrt(mean_squared_error(y_test,y_predict)))\n",
    "print((r2_score(y_test,y_predict)))"
   ]
  },
  {
   "cell_type": "code",
   "execution_count": 131,
   "id": "172b3782",
   "metadata": {},
   "outputs": [
    {
     "data": {
      "text/plain": [
       "[<matplotlib.lines.Line2D at 0x1688cd060>]"
      ]
     },
     "execution_count": 131,
     "metadata": {},
     "output_type": "execute_result"
    },
    {
     "data": {
      "image/png": "[encoded data removed]",
      "text/plain": [
       "<Figure size 640x480 with 1 Axes>"
      ]
     },
     "metadata": {},
     "output_type": "display_data"
    }
   ],
   "source": [
    "import matplotlib.pyplot as plt\n",
    "scaleddf.plot(kind='scatter',x='median_income',y='median_house_value')\n",
    "plt.plot(X_test,y_predict,c='red',linewidth=1)"
   ]
  },
  {
   "cell_type": "code",
   "execution_count": null,
   "id": "1955be98",
   "metadata": {},
   "outputs": [],
   "source": []
  }
 ],
 "metadata": {
  "kernelspec": {
   "display_name": "Python 3 (ipykernel)",
   "language": "python",
   "name": "python3"
  },
  "language_info": {
   "codemirror_mode": {
    "name": "ipython",
    "version": 3
   },
   "file_extension": ".py",
   "mimetype": "text/x-python",
   "name": "python",
   "nbconvert_exporter": "python",
   "pygments_lexer": "ipython3",
   "version": "3.10.9"
  }
 },
 "nbformat": 4,
 "nbformat_minor": 5
}
